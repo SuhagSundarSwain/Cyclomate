{
 "cells": [
  {
   "cell_type": "code",
   "execution_count": 5,
   "id": "f634b16a",
   "metadata": {},
   "outputs": [],
   "source": [
    "import cv2\n",
    "import glob"
   ]
  },
  {
   "cell_type": "code",
   "execution_count": 6,
   "id": "e56296b6",
   "metadata": {},
   "outputs": [],
   "source": [
    "image = cv2.imread('cyclone_image.jpg')"
   ]
  },
  {
   "cell_type": "code",
   "execution_count": 7,
   "id": "488f2672",
   "metadata": {},
   "outputs": [
    {
     "data": {
      "text/plain": [
       "(837, 726, 3)"
      ]
     },
     "execution_count": 7,
     "metadata": {},
     "output_type": "execute_result"
    }
   ],
   "source": [
    "image.shape"
   ]
  },
  {
   "cell_type": "code",
   "execution_count": 8,
   "id": "aa6611f0",
   "metadata": {},
   "outputs": [],
   "source": [
    "fourcc = cv2.VideoWriter_fourcc(*'DIVX')\n",
    "result = cv2.VideoWriter('output.avi',fourcc,15, (997,969))"
   ]
  },
  {
   "cell_type": "code",
   "execution_count": 12,
   "id": "b647df52",
   "metadata": {},
   "outputs": [],
   "source": [
    "while True:\n",
    "    k=0\n",
    "    for file in glob.glob('All_Cyclone_Images/cyclone/Amphan/*'):\n",
    "        image = cv2.imread(file)\n",
    "        cv2.imshow('1',image)\n",
    "        #result.write(image)\n",
    "        if cv2.waitKey(10)==13:\n",
    "            k=1\n",
    "            break\n",
    "    if k==1:\n",
    "        break\n",
    "cv2.destroyAllWindows()"
   ]
  },
  {
   "cell_type": "code",
   "execution_count": null,
   "id": "e9c2fade",
   "metadata": {},
   "outputs": [],
   "source": [
    "\n",
    "\n"
   ]
  }
 ],
 "metadata": {
  "kernelspec": {
   "display_name": "Python 3 (ipykernel)",
   "language": "python",
   "name": "python3"
  },
  "language_info": {
   "codemirror_mode": {
    "name": "ipython",
    "version": 3
   },
   "file_extension": ".py",
   "mimetype": "text/x-python",
   "name": "python",
   "nbconvert_exporter": "python",
   "pygments_lexer": "ipython3",
   "version": "3.8.12"
  }
 },
 "nbformat": 4,
 "nbformat_minor": 5
}
