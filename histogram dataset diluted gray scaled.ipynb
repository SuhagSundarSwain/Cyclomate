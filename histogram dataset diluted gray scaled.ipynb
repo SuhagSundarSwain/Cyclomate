{
 "cells": [
  {
   "cell_type": "code",
   "execution_count": 7,
   "id": "cb51b82e",
   "metadata": {},
   "outputs": [],
   "source": [
    "import cv2\n",
    "import glob\n",
    "import numpy as np"
   ]
  },
  {
   "cell_type": "markdown",
   "id": "79adc3d1",
   "metadata": {},
   "source": [
    "### diluted"
   ]
  },
  {
   "cell_type": "code",
   "execution_count": 19,
   "id": "7a69c949",
   "metadata": {},
   "outputs": [],
   "source": [
    "kernel1 = np.ones( (3,3), dtype=np.uint8 )\n",
    "\n",
    "for file in glob.glob('HistogramDataset/*'):\n",
    "    load_cyclone_image = cv2.imread(file)\n",
    "    cyclone_image = load_cyclone_image[500:,200:,:]\n",
    "    \n",
    "    erode_img1 = cv2.erode(cyclone_image,kernel1,iterations=2)\n",
    "    dil_img1 = cv2.dilate(erode_img1,kernel1,iterations=1)\n",
    "    \n",
    "    cv2.imwrite('HistogramDilutedDataset/{}'.format(file[17:]),dil_img1)"
   ]
  },
  {
   "cell_type": "markdown",
   "id": "be054367",
   "metadata": {},
   "source": [
    "### gray"
   ]
  },
  {
   "cell_type": "code",
   "execution_count": 32,
   "id": "314b117c",
   "metadata": {},
   "outputs": [],
   "source": [
    "for file in glob.glob('HistogramDilutedDataset/*'):\n",
    "    image = cv2.imread(file)\n",
    "    gray_image = cv2.cvtColor(image, cv2.COLOR_BGR2GRAY)\n",
    "    \n",
    "    cv2.imwrite('Histogram_Gray_Dataset/{}'.format(file[24:]),gray_image)"
   ]
  },
  {
   "cell_type": "markdown",
   "id": "24f72d68",
   "metadata": {},
   "source": [
    "### scaled"
   ]
  },
  {
   "cell_type": "code",
   "execution_count": 36,
   "id": "5f60d044",
   "metadata": {},
   "outputs": [],
   "source": [
    "for file in glob.glob('Histogram_Gray_Dataset/*'):\n",
    "    image = cv2.imread(file)\n",
    "    scaled_gray_image = cv2.convertScaleAbs(image, alpha = 1.12, beta = -20)\n",
    "    \n",
    "    cv2.imwrite('Histogram_scaled_gray_Dataset/{}'.format(file[23:]),scaled_gray_image)"
   ]
  },
  {
   "cell_type": "code",
   "execution_count": null,
   "id": "118f2fc9",
   "metadata": {},
   "outputs": [],
   "source": []
  }
 ],
 "metadata": {
  "kernelspec": {
   "display_name": "Python 3 (ipykernel)",
   "language": "python",
   "name": "python3"
  },
  "language_info": {
   "codemirror_mode": {
    "name": "ipython",
    "version": 3
   },
   "file_extension": ".py",
   "mimetype": "text/x-python",
   "name": "python",
   "nbconvert_exporter": "python",
   "pygments_lexer": "ipython3",
   "version": "3.8.12"
  }
 },
 "nbformat": 4,
 "nbformat_minor": 5
}
