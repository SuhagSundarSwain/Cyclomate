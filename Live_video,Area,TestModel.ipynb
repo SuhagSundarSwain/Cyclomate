{
 "cells": [
  {
   "cell_type": "markdown",
   "id": "558579e1",
   "metadata": {},
   "source": [
    "# Live video"
   ]
  },
  {
   "cell_type": "code",
   "execution_count": 2,
   "id": "3cdddfc9",
   "metadata": {},
   "outputs": [],
   "source": [
    "import cv2\n",
    "import glob"
   ]
  },
  {
   "cell_type": "code",
   "execution_count": 3,
   "id": "713df109",
   "metadata": {},
   "outputs": [],
   "source": [
    "#images = [cv2.imread(file) for file in glob.glob('SIH-Cyclone-master/data/cyclone/Amphan/*.jpg')]"
   ]
  },
  {
   "cell_type": "code",
   "execution_count": 1,
   "id": "aaf6f586",
   "metadata": {},
   "outputs": [
    {
     "ename": "NameError",
     "evalue": "name 'glob' is not defined",
     "output_type": "error",
     "traceback": [
      "\u001b[1;31m---------------------------------------------------------------------------\u001b[0m",
      "\u001b[1;31mNameError\u001b[0m                                 Traceback (most recent call last)",
      "\u001b[1;32m~\\AppData\\Local\\Temp/ipykernel_4272/2562668251.py\u001b[0m in \u001b[0;36m<module>\u001b[1;34m\u001b[0m\n\u001b[0;32m      1\u001b[0m \u001b[1;32mwhile\u001b[0m \u001b[1;32mTrue\u001b[0m\u001b[1;33m:\u001b[0m\u001b[1;33m\u001b[0m\u001b[1;33m\u001b[0m\u001b[0m\n\u001b[0;32m      2\u001b[0m     \u001b[0mk\u001b[0m\u001b[1;33m=\u001b[0m\u001b[1;36m0\u001b[0m\u001b[1;33m\u001b[0m\u001b[1;33m\u001b[0m\u001b[0m\n\u001b[1;32m----> 3\u001b[1;33m     \u001b[1;32mfor\u001b[0m \u001b[0mfile\u001b[0m \u001b[1;32min\u001b[0m \u001b[0mglob\u001b[0m\u001b[1;33m.\u001b[0m\u001b[0mglob\u001b[0m\u001b[1;33m(\u001b[0m\u001b[1;34m'SIH-Cyclone-master/data/cyclone/Amphan/*'\u001b[0m\u001b[1;33m)\u001b[0m\u001b[1;33m:\u001b[0m\u001b[1;33m\u001b[0m\u001b[1;33m\u001b[0m\u001b[0m\n\u001b[0m\u001b[0;32m      4\u001b[0m         \u001b[0mimage\u001b[0m \u001b[1;33m=\u001b[0m \u001b[0mcv2\u001b[0m\u001b[1;33m.\u001b[0m\u001b[0mimread\u001b[0m\u001b[1;33m(\u001b[0m\u001b[0mfile\u001b[0m\u001b[1;33m)\u001b[0m\u001b[1;33m\u001b[0m\u001b[1;33m\u001b[0m\u001b[0m\n\u001b[0;32m      5\u001b[0m         \u001b[0mcv2\u001b[0m\u001b[1;33m.\u001b[0m\u001b[0mimshow\u001b[0m\u001b[1;33m(\u001b[0m\u001b[1;34m'1'\u001b[0m\u001b[1;33m,\u001b[0m\u001b[0mimage\u001b[0m\u001b[1;33m)\u001b[0m\u001b[1;33m\u001b[0m\u001b[1;33m\u001b[0m\u001b[0m\n",
      "\u001b[1;31mNameError\u001b[0m: name 'glob' is not defined"
     ]
    }
   ],
   "source": [
    "while True:\n",
    "    k=0\n",
    "    for file in glob.glob('SIH-Cyclone-master/data/cyclone/Amphan/*'):\n",
    "        image = cv2.imread(file)\n",
    "        cv2.imshow('1',image)\n",
    "        if cv2.waitKey(100)==13:\n",
    "            k=1\n",
    "            break\n",
    "    if k==1:\n",
    "        break\n",
    "cv2.destroyAllWindows()"
   ]
  },
  {
   "cell_type": "code",
   "execution_count": null,
   "id": "b253462f",
   "metadata": {},
   "outputs": [],
   "source": [
    "image = cv2.imread('SIH-Cyclone-master/data/cyclone/Amphan/16MAY2020-0130.jpg')"
   ]
  },
  {
   "cell_type": "code",
   "execution_count": 1,
   "id": "bd4c884a",
   "metadata": {},
   "outputs": [
    {
     "ename": "NameError",
     "evalue": "name 'image' is not defined",
     "output_type": "error",
     "traceback": [
      "\u001b[1;31m---------------------------------------------------------------------------\u001b[0m",
      "\u001b[1;31mNameError\u001b[0m                                 Traceback (most recent call last)",
      "\u001b[1;32m~\\AppData\\Local\\Temp/ipykernel_10428/3931015231.py\u001b[0m in \u001b[0;36m<module>\u001b[1;34m\u001b[0m\n\u001b[1;32m----> 1\u001b[1;33m \u001b[0mimage\u001b[0m\u001b[1;33m.\u001b[0m\u001b[0mshape\u001b[0m\u001b[1;33m\u001b[0m\u001b[1;33m\u001b[0m\u001b[0m\n\u001b[0m",
      "\u001b[1;31mNameError\u001b[0m: name 'image' is not defined"
     ]
    }
   ],
   "source": [
    "image.shape"
   ]
  },
  {
   "cell_type": "code",
   "execution_count": null,
   "id": "f0e7e1b5",
   "metadata": {},
   "outputs": [],
   "source": []
  },
  {
   "cell_type": "code",
   "execution_count": null,
   "id": "c16f42a5",
   "metadata": {},
   "outputs": [],
   "source": []
  },
  {
   "cell_type": "code",
   "execution_count": null,
   "id": "c8f57562",
   "metadata": {},
   "outputs": [],
   "source": []
  },
  {
   "cell_type": "markdown",
   "id": "40e3de20",
   "metadata": {},
   "source": [
    "# Area"
   ]
  },
  {
   "cell_type": "code",
   "execution_count": null,
   "id": "488235fb",
   "metadata": {},
   "outputs": [],
   "source": [
    "m = cv2.imread('test_image.png')\n",
    "grayImage = cv2.cvtColor(m, cv2.COLOR_BGR2GRAY)"
   ]
  },
  {
   "cell_type": "code",
   "execution_count": null,
   "id": "a0761e7d",
   "metadata": {},
   "outputs": [],
   "source": [
    "# cv2.imshow('1',grayImage)\n",
    "# cv2.waitKey()\n",
    "# cv2.destroyAllWindows()"
   ]
  },
  {
   "cell_type": "code",
   "execution_count": null,
   "id": "b1c42902",
   "metadata": {},
   "outputs": [],
   "source": [
    "grayImage_list = grayImage.tolist()\n",
    "\n",
    "white = sum([i.count(255) for i in grayImage_list])\n",
    "black = sum([i.count(0) for i in grayImage_list])"
   ]
  },
  {
   "cell_type": "code",
   "execution_count": null,
   "id": "77422f32",
   "metadata": {},
   "outputs": [],
   "source": [
    "grayImage.shape"
   ]
  },
  {
   "cell_type": "code",
   "execution_count": null,
   "id": "e50e793b",
   "metadata": {},
   "outputs": [],
   "source": [
    "black"
   ]
  },
  {
   "cell_type": "code",
   "execution_count": null,
   "id": "b8cd67c0",
   "metadata": {},
   "outputs": [],
   "source": [
    "white"
   ]
  },
  {
   "cell_type": "code",
   "execution_count": null,
   "id": "7d2ef718",
   "metadata": {},
   "outputs": [],
   "source": [
    "black + white == 600*600"
   ]
  },
  {
   "cell_type": "code",
   "execution_count": null,
   "id": "4385a82f",
   "metadata": {},
   "outputs": [],
   "source": [
    "area_of_cyclone = (white/360000)*100\n",
    "\n",
    "area_of_cyclone"
   ]
  },
  {
   "cell_type": "markdown",
   "id": "41bd59a6",
   "metadata": {},
   "source": [
    "# Classification"
   ]
  },
  {
   "cell_type": "code",
   "execution_count": null,
   "id": "481ea674",
   "metadata": {},
   "outputs": [],
   "source": [
    "import cv2\n",
    "import tensorflow as tf\n",
    "import numpy as np"
   ]
  },
  {
   "cell_type": "code",
   "execution_count": null,
   "id": "956df2ec",
   "metadata": {},
   "outputs": [],
   "source": [
    "l_img = cv2.imread('SIH-Cyclone-master/data/cyclone/Fani/26APR2019-0000.jpg')"
   ]
  },
  {
   "cell_type": "code",
   "execution_count": null,
   "id": "a2a6f5f8",
   "metadata": {},
   "outputs": [],
   "source": [
    "img = l_img[470:,300:,:]"
   ]
  },
  {
   "cell_type": "code",
   "execution_count": null,
   "id": "8ff236bd",
   "metadata": {},
   "outputs": [],
   "source": [
    "cv2.imshow('1',img)\n",
    "cv2.waitKey()\n",
    "cv2.destroyAllWindows()"
   ]
  },
  {
   "cell_type": "code",
   "execution_count": null,
   "id": "665e2449",
   "metadata": {},
   "outputs": [],
   "source": [
    "len(image)"
   ]
  },
  {
   "cell_type": "code",
   "execution_count": null,
   "id": "72729b19",
   "metadata": {},
   "outputs": [],
   "source": [
    "kernel1 = np.ones( (3,3), dtype=np.uint8 )"
   ]
  },
  {
   "cell_type": "code",
   "execution_count": null,
   "id": "8166db2e",
   "metadata": {},
   "outputs": [],
   "source": [
    "erode_img1 = cv2.erode(img,kernel1,iterations=2)\n",
    "dil_img1 = cv2.dilate(erode_img1,kernel1)\n",
    "\n",
    "cv2.imshow('1',img)\n",
    "\n",
    "cv2.imshow('2',erode_img1)\n",
    "cv2.imwrite('img.png', erode_img1)\n",
    "\n",
    "cv2.imshow('3',dil_img1)\n",
    "\n",
    "\n",
    "cv2.waitKey()\n",
    "cv2.destroyAllWindows()"
   ]
  },
  {
   "cell_type": "code",
   "execution_count": null,
   "id": "360c049a",
   "metadata": {},
   "outputs": [],
   "source": [
    "\n",
    "import cv2"
   ]
  },
  {
   "cell_type": "code",
   "execution_count": null,
   "id": "b737d55a",
   "metadata": {},
   "outputs": [],
   "source": [
    "model = tf.keras.models.load_model('SIH_unet/SIH-Model/model_cyclone.h5')"
   ]
  },
  {
   "cell_type": "code",
   "execution_count": null,
   "id": "e440f904",
   "metadata": {},
   "outputs": [],
   "source": [
    "img = cv2.imread('img.png')"
   ]
  },
  {
   "cell_type": "code",
   "execution_count": null,
   "id": "15780a88",
   "metadata": {},
   "outputs": [],
   "source": [
    "img = cv2.resize(img,(128,128))     # resize image to match model's expected sizing\n",
    "img = img.reshape(1,128,128,3)"
   ]
  },
  {
   "cell_type": "code",
   "execution_count": null,
   "id": "fc48afb3",
   "metadata": {},
   "outputs": [],
   "source": []
  },
  {
   "cell_type": "code",
   "execution_count": null,
   "id": "4237b755",
   "metadata": {},
   "outputs": [],
   "source": []
  },
  {
   "cell_type": "code",
   "execution_count": null,
   "id": "724c84fb",
   "metadata": {},
   "outputs": [],
   "source": []
  },
  {
   "cell_type": "code",
   "execution_count": null,
   "id": "8d42ad41",
   "metadata": {},
   "outputs": [],
   "source": [
    "#img = resize(img, (128, 128), mode='constant', preserve_range=True)"
   ]
  },
  {
   "cell_type": "code",
   "execution_count": null,
   "id": "8b54e46c",
   "metadata": {},
   "outputs": [],
   "source": []
  },
  {
   "cell_type": "code",
   "execution_count": null,
   "id": "84a9850e",
   "metadata": {},
   "outputs": [],
   "source": []
  },
  {
   "cell_type": "code",
   "execution_count": null,
   "id": "9aabdc72",
   "metadata": {},
   "outputs": [],
   "source": []
  },
  {
   "cell_type": "code",
   "execution_count": null,
   "id": "32123e37",
   "metadata": {},
   "outputs": [],
   "source": [
    "pred = model.predict(img, verbose=1)"
   ]
  },
  {
   "cell_type": "code",
   "execution_count": null,
   "id": "c56c362a",
   "metadata": {},
   "outputs": [],
   "source": [
    "preds = (pred >0.1).astype(np.uint8)"
   ]
  },
  {
   "cell_type": "code",
   "execution_count": null,
   "id": "c457deeb",
   "metadata": {},
   "outputs": [],
   "source": [
    "from skimage.io import imread, imshow"
   ]
  },
  {
   "cell_type": "code",
   "execution_count": null,
   "id": "03bce399",
   "metadata": {},
   "outputs": [],
   "source": [
    "#imshow(img)\n",
    "#plt.show()\n",
    "#imshow(np.squeeze(Y_train[ix]))\n",
    "#plt.show()\n",
    "imshow(np.squeeze(preds))\n",
    "plt.show()"
   ]
  },
  {
   "cell_type": "code",
   "execution_count": null,
   "id": "f6907249",
   "metadata": {},
   "outputs": [],
   "source": []
  },
  {
   "cell_type": "code",
   "execution_count": null,
   "id": "7b95b890",
   "metadata": {},
   "outputs": [],
   "source": []
  },
  {
   "cell_type": "code",
   "execution_count": null,
   "id": "ceaff9a3",
   "metadata": {},
   "outputs": [],
   "source": []
  },
  {
   "cell_type": "code",
   "execution_count": null,
   "id": "5ebc7c7f",
   "metadata": {},
   "outputs": [],
   "source": [
    "dil_img1"
   ]
  },
  {
   "cell_type": "code",
   "execution_count": null,
   "id": "2f9db6a5",
   "metadata": {},
   "outputs": [],
   "source": []
  }
 ],
 "metadata": {
  "kernelspec": {
   "display_name": "Python 3 (ipykernel)",
   "language": "python",
   "name": "python3"
  },
  "language_info": {
   "codemirror_mode": {
    "name": "ipython",
    "version": 3
   },
   "file_extension": ".py",
   "mimetype": "text/x-python",
   "name": "python",
   "nbconvert_exporter": "python",
   "pygments_lexer": "ipython3",
   "version": "3.8.12"
  }
 },
 "nbformat": 4,
 "nbformat_minor": 5
}
