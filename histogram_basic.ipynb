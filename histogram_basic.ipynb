{
 "cells": [
  {
   "cell_type": "code",
   "execution_count": 19,
   "id": "604621e0",
   "metadata": {},
   "outputs": [],
   "source": [
    "import cv2\n",
    "import glob\n",
    "import matplotlib.pyplot as plt\n",
    "import numpy as np"
   ]
  },
  {
   "cell_type": "markdown",
   "id": "8f012be9",
   "metadata": {},
   "source": [
    "### Load Real Image"
   ]
  },
  {
   "cell_type": "code",
   "execution_count": 20,
   "id": "6f36dcee",
   "metadata": {},
   "outputs": [],
   "source": [
    "load_cyclone_image = cv2.imread('HistogramDataset/01-05-2019  030000.jpg')"
   ]
  },
  {
   "cell_type": "code",
   "execution_count": 21,
   "id": "c64f742e",
   "metadata": {},
   "outputs": [],
   "source": [
    "cv2.imshow(\"cyclone Image\",load_cyclone_image)\n",
    "cv2.waitKey()==13\n",
    "cv2.destroyAllWindows()"
   ]
  },
  {
   "cell_type": "markdown",
   "id": "07c4669d",
   "metadata": {},
   "source": [
    "### Crop cyclone image"
   ]
  },
  {
   "cell_type": "code",
   "execution_count": 22,
   "id": "a53593fe",
   "metadata": {},
   "outputs": [],
   "source": [
    "cyclone_image = load_cyclone_image[500:,200:,:]"
   ]
  },
  {
   "cell_type": "code",
   "execution_count": 23,
   "id": "d609c6b5",
   "metadata": {},
   "outputs": [],
   "source": [
    "cv2.imshow('cyclone crop iamge', cyclone_image)\n",
    "cv2.waitKey()==13\n",
    "cv2.destroyAllWindows()"
   ]
  },
  {
   "cell_type": "markdown",
   "id": "d2ade4b5",
   "metadata": {},
   "source": [
    "### noise cancellation"
   ]
  },
  {
   "cell_type": "code",
   "execution_count": 24,
   "id": "8e84545e",
   "metadata": {},
   "outputs": [],
   "source": [
    "kernel1 = np.ones( (3,3), dtype=np.uint8 )"
   ]
  },
  {
   "cell_type": "code",
   "execution_count": 27,
   "id": "8d81ede0",
   "metadata": {},
   "outputs": [],
   "source": [
    "erode_img1 = cv2.erode(cyclone_image,kernel1,iterations=2)\n",
    "dil_img1 = cv2.dilate(erode_img1,kernel1,iterations=1)\n",
    "\n",
    "cv2.imshow('1',cyclone_image)\n",
    "\n",
    "cv2.imshow('2',erode_img1)\n",
    "#cv2.imwrite('img.png', erode_img1)\n",
    "\n",
    "cv2.imshow('3',dil_img1)\n",
    "\n",
    "\n",
    "cv2.waitKey()\n",
    "cv2.destroyAllWindows()"
   ]
  },
  {
   "cell_type": "code",
   "execution_count": 28,
   "id": "cd8f5e61",
   "metadata": {},
   "outputs": [],
   "source": [
    "No_noise_cyclone_image = dil_img1"
   ]
  },
  {
   "cell_type": "markdown",
   "id": "6969affe",
   "metadata": {},
   "source": [
    "### convert to gray"
   ]
  },
  {
   "cell_type": "code",
   "execution_count": 33,
   "id": "8e4820d0",
   "metadata": {},
   "outputs": [],
   "source": [
    "gray_cyclone_image = cv2.cvtColor(No_noise_cyclone_image, cv2.COLOR_BGR2GRAY)"
   ]
  },
  {
   "cell_type": "code",
   "execution_count": 34,
   "id": "e7ef4f0b",
   "metadata": {},
   "outputs": [],
   "source": [
    "cv2.imshow(\"gray cyclone Image\",gray_cyclone_image)\n",
    "cv2.waitKey()==13\n",
    "cv2.destroyAllWindows()"
   ]
  },
  {
   "cell_type": "markdown",
   "id": "bf008fe9",
   "metadata": {},
   "source": [
    "### contraction"
   ]
  },
  {
   "cell_type": "code",
   "execution_count": 35,
   "id": "e7537a0c",
   "metadata": {},
   "outputs": [],
   "source": [
    "scaled_gray_cyclone_image = cv2.convertScaleAbs(gray_cyclone_image, alpha = 1.12, beta = -20)"
   ]
  },
  {
   "cell_type": "code",
   "execution_count": 36,
   "id": "5dab7846",
   "metadata": {},
   "outputs": [],
   "source": [
    "cv2.imshow(\"scaled gray cyclone image\",scaled_gray_cyclone_image)\n",
    "cv2.waitKey()==13\n",
    "cv2.destroyAllWindows()"
   ]
  },
  {
   "cell_type": "markdown",
   "id": "3377810f",
   "metadata": {},
   "source": [
    "### histogram"
   ]
  },
  {
   "cell_type": "code",
   "execution_count": 39,
   "id": "372ee061",
   "metadata": {},
   "outputs": [],
   "source": [
    "def Hist(image):\n",
    "    H = np.zeros(shape = 256)\n",
    "    s = image.shape\n",
    "    for i in range(s[0]):\n",
    "        for j in range(s[1]):\n",
    "            k = image[i,j]\n",
    "            H[k] += 1\n",
    "    return H"
   ]
  },
  {
   "cell_type": "code",
   "execution_count": 41,
   "id": "95510f01",
   "metadata": {},
   "outputs": [],
   "source": [
    "hist_gray_cyclone_image = Hist(gray_cyclone_image)"
   ]
  },
  {
   "cell_type": "code",
   "execution_count": 42,
   "id": "7a7ea0b8",
   "metadata": {},
   "outputs": [],
   "source": [
    "hist_scaled_gray_cyclone_image = Hist(scaled_gray_cyclone_image)"
   ]
  },
  {
   "cell_type": "markdown",
   "id": "16b34642",
   "metadata": {},
   "source": [
    "### hist graph"
   ]
  },
  {
   "cell_type": "code",
   "execution_count": 43,
   "id": "840c3d0a",
   "metadata": {},
   "outputs": [
    {
     "data": {
      "text/plain": [
       "[<matplotlib.lines.Line2D at 0x1a121583a00>]"
      ]
     },
     "execution_count": 43,
     "metadata": {},
     "output_type": "execute_result"
    },
    {
     "data": {
      "image/png": "[encoded data removed]",
      "text/plain": [
       "<Figure size 432x288 with 1 Axes>"
      ]
     },
     "metadata": {
      "needs_background": "light"
     },
     "output_type": "display_data"
    }
   ],
   "source": [
    "plt.plot(hist_gray_cyclone_image)"
   ]
  },
  {
   "cell_type": "code",
   "execution_count": 44,
   "id": "666ef5d9",
   "metadata": {},
   "outputs": [
    {
     "data": {
      "text/plain": [
       "[<matplotlib.lines.Line2D at 0x1a1236451f0>]"
      ]
     },
     "execution_count": 44,
     "metadata": {},
     "output_type": "execute_result"
    },
    {
     "data": {
      "image/png": "[encoded data removed]",
      "text/plain": [
       "<Figure size 432x288 with 1 Axes>"
      ]
     },
     "metadata": {
      "needs_background": "light"
     },
     "output_type": "display_data"
    }
   ],
   "source": [
    "plt.plot(hist_scaled_gray_cyclone_image)"
   ]
  },
  {
   "cell_type": "code",
   "execution_count": null,
   "id": "5e230d07",
   "metadata": {},
   "outputs": [],
   "source": []
  }
 ],
 "metadata": {
  "kernelspec": {
   "display_name": "Python 3 (ipykernel)",
   "language": "python",
   "name": "python3"
  },
  "language_info": {
   "codemirror_mode": {
    "name": "ipython",
    "version": 3
   },
   "file_extension": ".py",
   "mimetype": "text/x-python",
   "name": "python",
   "nbconvert_exporter": "python",
   "pygments_lexer": "ipython3",
   "version": "3.8.12"
  }
 },
 "nbformat": 4,
 "nbformat_minor": 5
}
